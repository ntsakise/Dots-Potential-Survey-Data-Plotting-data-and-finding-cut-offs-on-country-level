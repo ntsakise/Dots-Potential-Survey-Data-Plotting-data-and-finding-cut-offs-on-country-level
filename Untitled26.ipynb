{
 "cells": [
  {
   "cell_type": "code",
   "execution_count": null,
   "id": "2042c26c-e594-4437-8767-df74e779df9a",
   "metadata": {},
   "outputs": [],
   "source": []
  },
  {
   "cell_type": "code",
   "execution_count": 1,
   "id": "62db3531-b0b7-4d26-871f-5060aab7559b",
   "metadata": {
    "tags": []
   },
   "outputs": [],
   "source": [
    "import pandas as pd\n",
    "import numpy as np\n",
    "import seaborn as sns\n",
    "import matplotlib.pyplot as plt"
   ]
  },
  {
   "cell_type": "code",
   "execution_count": 2,
   "id": "ceedd921-6d09-40ff-aa5a-c51f43087667",
   "metadata": {
    "tags": []
   },
   "outputs": [
    {
     "data": {
      "text/html": [
       "<div>\n",
       "<style scoped>\n",
       "    .dataframe tbody tr th:only-of-type {\n",
       "        vertical-align: middle;\n",
       "    }\n",
       "\n",
       "    .dataframe tbody tr th {\n",
       "        vertical-align: top;\n",
       "    }\n",
       "\n",
       "    .dataframe thead th {\n",
       "        text-align: right;\n",
       "    }\n",
       "</style>\n",
       "<table border=\"1\" class=\"dataframe\">\n",
       "  <thead>\n",
       "    <tr style=\"text-align: right;\">\n",
       "      <th></th>\n",
       "      <th>Unique ID</th>\n",
       "      <th>Country</th>\n",
       "      <th>Age</th>\n",
       "      <th>Annual Family Income ($)</th>\n",
       "      <th>Gender</th>\n",
       "      <th>Time spent watching videos/TV</th>\n",
       "      <th>Time spent playing indoor sports</th>\n",
       "      <th>Time spent playing outdoor sports</th>\n",
       "      <th>Total Time spent working in front of screen</th>\n",
       "      <th>Sleeping hours</th>\n",
       "      <th>...</th>\n",
       "      <th>Has OTT subscription</th>\n",
       "      <th>Number of friends</th>\n",
       "      <th>Likes spicy food</th>\n",
       "      <th>Likes desserts</th>\n",
       "      <th>Wants to change career</th>\n",
       "      <th>Has debt</th>\n",
       "      <th>Has kids</th>\n",
       "      <th>Drinks alcohol</th>\n",
       "      <th>Smoker</th>\n",
       "      <th>Wear Specs</th>\n",
       "    </tr>\n",
       "  </thead>\n",
       "  <tbody>\n",
       "    <tr>\n",
       "      <th>0</th>\n",
       "      <td>7319483</td>\n",
       "      <td>CAN</td>\n",
       "      <td>13</td>\n",
       "      <td>20423</td>\n",
       "      <td>Male</td>\n",
       "      <td>3</td>\n",
       "      <td>4</td>\n",
       "      <td>3</td>\n",
       "      <td>7</td>\n",
       "      <td>8</td>\n",
       "      <td>...</td>\n",
       "      <td>1</td>\n",
       "      <td>4</td>\n",
       "      <td>0</td>\n",
       "      <td>1</td>\n",
       "      <td>0</td>\n",
       "      <td>0</td>\n",
       "      <td>0</td>\n",
       "      <td>0</td>\n",
       "      <td>0</td>\n",
       "      <td>1</td>\n",
       "    </tr>\n",
       "    <tr>\n",
       "      <th>1</th>\n",
       "      <td>4791965</td>\n",
       "      <td>CAN</td>\n",
       "      <td>13</td>\n",
       "      <td>5570</td>\n",
       "      <td>Female</td>\n",
       "      <td>3</td>\n",
       "      <td>3</td>\n",
       "      <td>1</td>\n",
       "      <td>10</td>\n",
       "      <td>3</td>\n",
       "      <td>...</td>\n",
       "      <td>1</td>\n",
       "      <td>6</td>\n",
       "      <td>0</td>\n",
       "      <td>1</td>\n",
       "      <td>0</td>\n",
       "      <td>0</td>\n",
       "      <td>0</td>\n",
       "      <td>0</td>\n",
       "      <td>1</td>\n",
       "      <td>1</td>\n",
       "    </tr>\n",
       "    <tr>\n",
       "      <th>2</th>\n",
       "      <td>2991718</td>\n",
       "      <td>CAN</td>\n",
       "      <td>13</td>\n",
       "      <td>58706</td>\n",
       "      <td>Female</td>\n",
       "      <td>2</td>\n",
       "      <td>2</td>\n",
       "      <td>1</td>\n",
       "      <td>4</td>\n",
       "      <td>9</td>\n",
       "      <td>...</td>\n",
       "      <td>0</td>\n",
       "      <td>5</td>\n",
       "      <td>0</td>\n",
       "      <td>0</td>\n",
       "      <td>0</td>\n",
       "      <td>0</td>\n",
       "      <td>0</td>\n",
       "      <td>0</td>\n",
       "      <td>0</td>\n",
       "      <td>0</td>\n",
       "    </tr>\n",
       "    <tr>\n",
       "      <th>3</th>\n",
       "      <td>4220106</td>\n",
       "      <td>CAN</td>\n",
       "      <td>13</td>\n",
       "      <td>57118</td>\n",
       "      <td>Male</td>\n",
       "      <td>6</td>\n",
       "      <td>2</td>\n",
       "      <td>4</td>\n",
       "      <td>10</td>\n",
       "      <td>11</td>\n",
       "      <td>...</td>\n",
       "      <td>1</td>\n",
       "      <td>9</td>\n",
       "      <td>0</td>\n",
       "      <td>1</td>\n",
       "      <td>0</td>\n",
       "      <td>0</td>\n",
       "      <td>0</td>\n",
       "      <td>0</td>\n",
       "      <td>0</td>\n",
       "      <td>0</td>\n",
       "    </tr>\n",
       "    <tr>\n",
       "      <th>4</th>\n",
       "      <td>2263008</td>\n",
       "      <td>CAN</td>\n",
       "      <td>14</td>\n",
       "      <td>59834</td>\n",
       "      <td>Male</td>\n",
       "      <td>6</td>\n",
       "      <td>3</td>\n",
       "      <td>4</td>\n",
       "      <td>13</td>\n",
       "      <td>12</td>\n",
       "      <td>...</td>\n",
       "      <td>1</td>\n",
       "      <td>6</td>\n",
       "      <td>1</td>\n",
       "      <td>0</td>\n",
       "      <td>0</td>\n",
       "      <td>0</td>\n",
       "      <td>0</td>\n",
       "      <td>0</td>\n",
       "      <td>0</td>\n",
       "      <td>0</td>\n",
       "    </tr>\n",
       "  </tbody>\n",
       "</table>\n",
       "<p>5 rows × 29 columns</p>\n",
       "</div>"
      ],
      "text/plain": [
       "   Unique ID Country  Age  Annual Family Income ($)  Gender  \\\n",
       "0    7319483     CAN   13                     20423    Male   \n",
       "1    4791965     CAN   13                      5570  Female   \n",
       "2    2991718     CAN   13                     58706  Female   \n",
       "3    4220106     CAN   13                     57118    Male   \n",
       "4    2263008     CAN   14                     59834    Male   \n",
       "\n",
       "   Time spent watching videos/TV  Time spent playing indoor sports  \\\n",
       "0                              3                                 4   \n",
       "1                              3                                 3   \n",
       "2                              2                                 2   \n",
       "3                              6                                 2   \n",
       "4                              6                                 3   \n",
       "\n",
       "   Time spent playing outdoor sports  \\\n",
       "0                                  3   \n",
       "1                                  1   \n",
       "2                                  1   \n",
       "3                                  4   \n",
       "4                                  4   \n",
       "\n",
       "   Total Time spent working in front of screen  Sleeping hours  ...  \\\n",
       "0                                            7               8  ...   \n",
       "1                                           10               3  ...   \n",
       "2                                            4               9  ...   \n",
       "3                                           10              11  ...   \n",
       "4                                           13              12  ...   \n",
       "\n",
       "   Has OTT subscription  Number of friends  Likes spicy food  Likes desserts  \\\n",
       "0                     1                  4                 0               1   \n",
       "1                     1                  6                 0               1   \n",
       "2                     0                  5                 0               0   \n",
       "3                     1                  9                 0               1   \n",
       "4                     1                  6                 1               0   \n",
       "\n",
       "   Wants to change career  Has debt  Has kids Drinks alcohol  Smoker  \\\n",
       "0                       0         0         0              0       0   \n",
       "1                       0         0         0              0       1   \n",
       "2                       0         0         0              0       0   \n",
       "3                       0         0         0              0       0   \n",
       "4                       0         0         0              0       0   \n",
       "\n",
       "   Wear Specs  \n",
       "0           1  \n",
       "1           1  \n",
       "2           0  \n",
       "3           0  \n",
       "4           0  \n",
       "\n",
       "[5 rows x 29 columns]"
      ]
     },
     "execution_count": 2,
     "metadata": {},
     "output_type": "execute_result"
    }
   ],
   "source": [
    "# Load the dataset\n",
    "df=pd.read_excel('Dots Potential Customer Survey Data.xlsx')\n",
    "df.head()"
   ]
  },
  {
   "cell_type": "code",
   "execution_count": 3,
   "id": "30df2a22-046a-4c0e-b685-75028eddc3ac",
   "metadata": {
    "tags": []
   },
   "outputs": [
    {
     "name": "stdout",
     "output_type": "stream",
     "text": [
      "<class 'pandas.core.frame.DataFrame'>\n",
      "RangeIndex: 3220 entries, 0 to 3219\n",
      "Data columns (total 29 columns):\n",
      " #   Column                                                   Non-Null Count  Dtype \n",
      "---  ------                                                   --------------  ----- \n",
      " 0   Unique ID                                                3220 non-null   int64 \n",
      " 1   Country                                                  3220 non-null   object\n",
      " 2   Age                                                      3220 non-null   int64 \n",
      " 3   Annual Family Income ($)                                 3220 non-null   int64 \n",
      " 4   Gender                                                   3220 non-null   object\n",
      " 5   Time spent watching videos/TV                            3220 non-null   int64 \n",
      " 6   Time spent playing indoor sports                         3220 non-null   int64 \n",
      " 7   Time spent playing outdoor sports                        3220 non-null   int64 \n",
      " 8   Total Time spent working in front of screen              3220 non-null   int64 \n",
      " 9   Sleeping hours                                           3220 non-null   int64 \n",
      " 10  IQ                                                       3220 non-null   int64 \n",
      " 11  Whether parents have specs                               3220 non-null   int64 \n",
      " 12  English speaker                                          3220 non-null   int64 \n",
      " 13  Migrated within country                                  3220 non-null   int64 \n",
      " 14  Migrated overseas                                        3220 non-null   int64 \n",
      " 15  Maritial Status (0 - Single, 1 - Married, 2 - Divorced)  3220 non-null   int64 \n",
      " 16  Has Diabetes                                             3220 non-null   int64 \n",
      " 17  Education Status                                         3220 non-null   object\n",
      " 18  Has Gym Subscription                                     3220 non-null   int64 \n",
      " 19  Has OTT subscription                                     3220 non-null   int64 \n",
      " 20  Number of friends                                        3220 non-null   int64 \n",
      " 21  Likes spicy food                                         3220 non-null   int64 \n",
      " 22  Likes desserts                                           3220 non-null   int64 \n",
      " 23  Wants to change career                                   3220 non-null   int64 \n",
      " 24  Has debt                                                 3220 non-null   int64 \n",
      " 25  Has kids                                                 3220 non-null   int64 \n",
      " 26  Drinks alcohol                                           3220 non-null   int64 \n",
      " 27  Smoker                                                   3220 non-null   int64 \n",
      " 28  Wear Specs                                               3220 non-null   int64 \n",
      "dtypes: int64(26), object(3)\n",
      "memory usage: 729.7+ KB\n"
     ]
    }
   ],
   "source": [
    "# Display basic information and the first few rows of the dataframe\n",
    "df_info = df.info()\n",
    "df_head = df.head()"
   ]
  },
  {
   "cell_type": "code",
   "execution_count": 4,
   "id": "15408841-6c44-4016-896b-158d045107ce",
   "metadata": {
    "tags": []
   },
   "outputs": [
    {
     "name": "stdout",
     "output_type": "stream",
     "text": [
      "Dataframe Info:\n",
      "None\n",
      "First few rows of the dataframe:\n",
      "   Unique ID Country  Age  Annual Family Income ($)  Gender  \\\n",
      "0    7319483     CAN   13                     20423    Male   \n",
      "1    4791965     CAN   13                      5570  Female   \n",
      "2    2991718     CAN   13                     58706  Female   \n",
      "3    4220106     CAN   13                     57118    Male   \n",
      "4    2263008     CAN   14                     59834    Male   \n",
      "\n",
      "   Time spent watching videos/TV  Time spent playing indoor sports  \\\n",
      "0                              3                                 4   \n",
      "1                              3                                 3   \n",
      "2                              2                                 2   \n",
      "3                              6                                 2   \n",
      "4                              6                                 3   \n",
      "\n",
      "   Time spent playing outdoor sports  \\\n",
      "0                                  3   \n",
      "1                                  1   \n",
      "2                                  1   \n",
      "3                                  4   \n",
      "4                                  4   \n",
      "\n",
      "   Total Time spent working in front of screen  Sleeping hours  ...  \\\n",
      "0                                            7               8  ...   \n",
      "1                                           10               3  ...   \n",
      "2                                            4               9  ...   \n",
      "3                                           10              11  ...   \n",
      "4                                           13              12  ...   \n",
      "\n",
      "   Has OTT subscription  Number of friends  Likes spicy food  Likes desserts  \\\n",
      "0                     1                  4                 0               1   \n",
      "1                     1                  6                 0               1   \n",
      "2                     0                  5                 0               0   \n",
      "3                     1                  9                 0               1   \n",
      "4                     1                  6                 1               0   \n",
      "\n",
      "   Wants to change career  Has debt  Has kids Drinks alcohol  Smoker  \\\n",
      "0                       0         0         0              0       0   \n",
      "1                       0         0         0              0       1   \n",
      "2                       0         0         0              0       0   \n",
      "3                       0         0         0              0       0   \n",
      "4                       0         0         0              0       0   \n",
      "\n",
      "   Wear Specs  \n",
      "0           1  \n",
      "1           1  \n",
      "2           0  \n",
      "3           0  \n",
      "4           0  \n",
      "\n",
      "[5 rows x 29 columns]\n"
     ]
    }
   ],
   "source": [
    "print('Dataframe Info:')\n",
    "print(df_info)\n",
    "print('\\\n",
    "First few rows of the dataframe:')\n",
    "print(df_head)"
   ]
  },
  {
   "cell_type": "code",
   "execution_count": 5,
   "id": "1d27b686-f0c7-4c4b-9cec-34b05b734c9b",
   "metadata": {
    "tags": []
   },
   "outputs": [
    {
     "name": "stdout",
     "output_type": "stream",
     "text": [
      "Null values in each column:\n",
      "Unique ID                                                  0\n",
      "Country                                                    0\n",
      "Age                                                        0\n",
      "Annual Family Income ($)                                   0\n",
      "Gender                                                     0\n",
      "Time spent watching videos/TV                              0\n",
      "Time spent playing indoor sports                           0\n",
      "Time spent playing outdoor sports                          0\n",
      "Total Time spent working in front of screen                0\n",
      "Sleeping hours                                             0\n",
      "IQ                                                         0\n",
      "Whether parents have specs                                 0\n",
      "English speaker                                            0\n",
      "Migrated within country                                    0\n",
      "Migrated overseas                                          0\n",
      "Maritial Status (0 - Single, 1 - Married, 2 - Divorced)    0\n",
      "Has Diabetes                                               0\n",
      "Education Status                                           0\n",
      "Has Gym Subscription                                       0\n",
      "Has OTT subscription                                       0\n",
      "Number of friends                                          0\n",
      "Likes spicy food                                           0\n",
      "Likes desserts                                             0\n",
      "Wants to change career                                     0\n",
      "Has debt                                                   0\n",
      "Has kids                                                   0\n",
      "Drinks alcohol                                             0\n",
      "Smoker                                                     0\n",
      "Wear Specs                                                 0\n",
      "dtype: int64\n"
     ]
    }
   ],
   "source": [
    "# Check for null values\n",
    "df_nulls = df.isnull().sum()\n",
    "print('Null values in each column:')\n",
    "print(df_nulls)"
   ]
  },
  {
   "cell_type": "code",
   "execution_count": 49,
   "id": "6975b25a-b8b4-43ae-ac40-24850cbcb08f",
   "metadata": {
    "tags": []
   },
   "outputs": [],
   "source": [
    "# Calculate Q1\n",
    "Q1 = np.percentile(df['Wear Specs'], 25)"
   ]
  },
  {
   "cell_type": "code",
   "execution_count": 55,
   "id": "3efe1285-3c59-45ed-9ad0-519e83da9bbd",
   "metadata": {
    "tags": []
   },
   "outputs": [],
   "source": [
    "# Calculate Q3\n",
    "Q3 = np.percentile(df['Wear Specs'], 75)"
   ]
  },
  {
   "cell_type": "code",
   "execution_count": 56,
   "id": "cf6ef184-b555-49de-ad37-7462bd4d8613",
   "metadata": {
    "tags": []
   },
   "outputs": [],
   "source": [
    "# Calculate IQR\n",
    "IQR = Q3 - Q1\n",
    "\n",
    "# Define the outlier step as a multiplier of the IQR\n",
    "outlier_step = 1.5  # You can adjust this multiplier as needed"
   ]
  },
  {
   "cell_type": "code",
   "execution_count": 58,
   "id": "2c08f154-45d9-4504-b92f-b13c990639d9",
   "metadata": {
    "tags": []
   },
   "outputs": [],
   "source": [
    "outlier_indices = []  # Initialize the list before using it\n",
    "\n",
    "outlier_list_col = df[(df['Wear Specs'] < Q1 - outlier_step) | (df['Wear Specs'] > Q3 + outlier_step)]\n",
    "outlier_indices.extend(outlier_list_col.index)  # Assuming you want to extend with index values"
   ]
  },
  {
   "cell_type": "code",
   "execution_count": 59,
   "id": "e8ea29ce-d853-4244-a621-0711b3fbaa05",
   "metadata": {
    "tags": []
   },
   "outputs": [],
   "source": [
    " # Determine a list of indices of outliers for feature c\n",
    "outlier_list_col = df[(df['Wear Specs'] < Q1 - outlier_step) | (df['Wear Specs'] > Q3 + outlier_step )]\n",
    "# append the found outlier indices for c to the list of outlier indices \n",
    "outlier_indices.extend(outlier_list_col)"
   ]
  },
  {
   "cell_type": "code",
   "execution_count": 60,
   "id": "fb505835-ffe6-434c-8e5d-febf2d907611",
   "metadata": {
    "tags": []
   },
   "outputs": [],
   "source": [
    "# Calculate IQR\n",
    "IQR = Q3 - Q1\n",
    "\n",
    "# Define the outlier step as a multiplier of the IQR\n",
    "outlier_step = 1.5  # You can adjust this multiplier as needed"
   ]
  },
  {
   "cell_type": "code",
   "execution_count": 47,
   "id": "5c5b9f73-1145-4374-8ed9-6fef2e1e31f5",
   "metadata": {
    "tags": []
   },
   "outputs": [],
   "source": [
    "\n",
    "# Function to detect outliers using IQR\n",
    "def detect_outliers(df, features):\n",
    "    outlier_indices = []\n",
    "    for c in features:\n",
    "        # 1st quartile (25%)\n",
    "        Q1 = np.percentile(df['Wear Specs'], 25)\n",
    "        # 3rd quartile (75%)\n",
    "        Q3 = np.percentile(df['Wear Specs'], 75)\n",
    "        # Interquartile range (IQR)\n",
    "        IQR = Q3 - Q1\n",
    "        # Outlier step\n",
    "        outlier_step = 1.5 * IQR"
   ]
  },
  {
   "cell_type": "code",
   "execution_count": 74,
   "id": "120fb165-f95b-411e-bdb6-ae59fc468b84",
   "metadata": {
    "tags": []
   },
   "outputs": [
    {
     "name": "stdout",
     "output_type": "stream",
     "text": [
      "Number of the outliner: 144\n",
      "Outlier indices: [7, 38, 115, 475, 660, 694, 986, 1002, 1052, 1083]\n"
     ]
    }
   ],
   "source": [
    "# Columns to check for outliers\n",
    "numerical_cols = ['Age', 'Annual Family Income ($)', 'Time spent watching videos/TV', 'Time spent playing indoor sports', 'Time spent playing outdoor sports', 'Total Time spent working in front of screen', 'Sleeping hours', 'IQ', 'Number of friends']\n",
    "outliers = detect_outliers(df, numerical_cols)\n",
    "\n",
    "print('Number of the outliner:', len(outliers))\n",
    "print('Outlier indices:', outliers[:10])"
   ]
  },
  {
   "cell_type": "code",
   "execution_count": 62,
   "id": "4ce2fc57-44bc-4923-bc3e-739138a65ef2",
   "metadata": {
    "tags": []
   },
   "outputs": [
    {
     "name": "stdout",
     "output_type": "stream",
     "text": [
      "Number of the outliers: 144\n",
      "Outlier indices: [7, 38, 115, 475, 660, 694, 986, 1002, 1052, 1083]\n"
     ]
    }
   ],
   "source": [
    "def detect_outliers(df, numerical_cols):\n",
    "    outlier_indices = []\n",
    "    for col in numerical_cols:\n",
    "        Q1 = df[col].quantile(0.25)\n",
    "        Q3 = df[col].quantile(0.75)\n",
    "        IQR = Q3 - Q1\n",
    "        outlier_step = 1.5 * IQR\n",
    "        outlier_list_col = df[(df[col] < Q1 - outlier_step) | (df[col] > Q3 + outlier_step)].index\n",
    "        outlier_indices.extend(outlier_list_col)\n",
    "    return outlier_indices\n",
    "\n",
    "numerical_cols = ['Age', 'Annual Family Income ($)', 'Time spent watching videos/TV', 'Time spent playing indoor sports', 'Time spent playing outdoor sports', 'Total Time spent working in front of screen', 'Sleeping hours', 'IQ', 'Number of friends']\n",
    "outliers = detect_outliers(df, numerical_cols)\n",
    "\n",
    "if outliers:  # Check if outliers is not None\n",
    "    print('Number of the outliers:', len(outliers))\n",
    "    print('Outlier indices:', outliers[:10])\n",
    "else:\n",
    "    print(\"No outliers found.\")"
   ]
  },
  {
   "cell_type": "code",
   "execution_count": 10,
   "id": "055784ff-1cf9-482c-9534-ad485a9509d1",
   "metadata": {},
   "outputs": [
    {
     "name": "stdout",
     "output_type": "stream",
     "text": [
      "Number of duplicate rows: 0\n"
     ]
    }
   ],
   "source": [
    "# Check for duplicates\n",
    "duplicates = df.duplicated().sum()\n",
    "print('Number of duplicate rows:', duplicates)"
   ]
  },
  {
   "cell_type": "code",
   "execution_count": 11,
   "id": "0b20162f-de0d-493b-bea4-bb4bab82b875",
   "metadata": {
    "tags": []
   },
   "outputs": [],
   "source": [
    "from sklearn.preprocessing import LabelEncoder, OneHotEncoder"
   ]
  },
  {
   "cell_type": "code",
   "execution_count": 12,
   "id": "a06e4f97-d6f2-4357-adb9-b5007b65a367",
   "metadata": {
    "tags": []
   },
   "outputs": [],
   "source": [
    "# Label encoding binary variables\n",
    "cols_label_encode = ['Whether parents have specs', 'English speaker', 'Migrated within country', 'Migrated overseas', 'Has Diabetes', 'Has Gym Subscription', 'Has OTT subscription', 'Likes spicy food', 'Likes desserts', 'Wants to change career', 'Has debt', 'Has kids', 'Drinks alcohol', 'Smoker', 'Wear Specs']\n",
    "label_encoder = LabelEncoder()\n",
    "for col in cols_label_encode:\n",
    "    df[col] = label_encoder.fit_transform(df[col])"
   ]
  },
  {
   "cell_type": "code",
   "execution_count": 13,
   "id": "0464b9b3-96d5-41da-ab4b-8235e116c227",
   "metadata": {
    "tags": []
   },
   "outputs": [],
   "source": [
    "# One-hot encoding for variables with more than two categories\n",
    "cols_one_hot_encode = ['Country', 'Gender', 'Maritial Status (0 - Single, 1 - Married, 2 - Divorced)', 'Education Status']\n",
    "df = pd.get_dummies(df, columns=cols_one_hot_encode)"
   ]
  },
  {
   "cell_type": "code",
   "execution_count": 14,
   "id": "5f7b53fe-2811-46a3-b873-2b047a162ef0",
   "metadata": {
    "tags": []
   },
   "outputs": [
    {
     "data": {
      "text/html": [
       "<div>\n",
       "<style scoped>\n",
       "    .dataframe tbody tr th:only-of-type {\n",
       "        vertical-align: middle;\n",
       "    }\n",
       "\n",
       "    .dataframe tbody tr th {\n",
       "        vertical-align: top;\n",
       "    }\n",
       "\n",
       "    .dataframe thead th {\n",
       "        text-align: right;\n",
       "    }\n",
       "</style>\n",
       "<table border=\"1\" class=\"dataframe\">\n",
       "  <thead>\n",
       "    <tr style=\"text-align: right;\">\n",
       "      <th></th>\n",
       "      <th>Unique ID</th>\n",
       "      <th>Age</th>\n",
       "      <th>Annual Family Income ($)</th>\n",
       "      <th>Time spent watching videos/TV</th>\n",
       "      <th>Time spent playing indoor sports</th>\n",
       "      <th>Time spent playing outdoor sports</th>\n",
       "      <th>Total Time spent working in front of screen</th>\n",
       "      <th>Sleeping hours</th>\n",
       "      <th>IQ</th>\n",
       "      <th>Whether parents have specs</th>\n",
       "      <th>...</th>\n",
       "      <th>Country_JPN</th>\n",
       "      <th>Country_KOR</th>\n",
       "      <th>Gender_Female</th>\n",
       "      <th>Gender_Male</th>\n",
       "      <th>Maritial Status (0 - Single, 1 - Married, 2 - Divorced)_0</th>\n",
       "      <th>Maritial Status (0 - Single, 1 - Married, 2 - Divorced)_1</th>\n",
       "      <th>Maritial Status (0 - Single, 1 - Married, 2 - Divorced)_2</th>\n",
       "      <th>Education Status_Dropout</th>\n",
       "      <th>Education Status_Graduate</th>\n",
       "      <th>Education Status_Studying</th>\n",
       "    </tr>\n",
       "  </thead>\n",
       "  <tbody>\n",
       "    <tr>\n",
       "      <th>0</th>\n",
       "      <td>7319483</td>\n",
       "      <td>13</td>\n",
       "      <td>20423</td>\n",
       "      <td>3</td>\n",
       "      <td>4</td>\n",
       "      <td>3</td>\n",
       "      <td>7</td>\n",
       "      <td>8</td>\n",
       "      <td>95</td>\n",
       "      <td>1</td>\n",
       "      <td>...</td>\n",
       "      <td>False</td>\n",
       "      <td>False</td>\n",
       "      <td>False</td>\n",
       "      <td>True</td>\n",
       "      <td>True</td>\n",
       "      <td>False</td>\n",
       "      <td>False</td>\n",
       "      <td>False</td>\n",
       "      <td>False</td>\n",
       "      <td>True</td>\n",
       "    </tr>\n",
       "    <tr>\n",
       "      <th>1</th>\n",
       "      <td>4791965</td>\n",
       "      <td>13</td>\n",
       "      <td>5570</td>\n",
       "      <td>3</td>\n",
       "      <td>3</td>\n",
       "      <td>1</td>\n",
       "      <td>10</td>\n",
       "      <td>3</td>\n",
       "      <td>120</td>\n",
       "      <td>1</td>\n",
       "      <td>...</td>\n",
       "      <td>False</td>\n",
       "      <td>False</td>\n",
       "      <td>True</td>\n",
       "      <td>False</td>\n",
       "      <td>True</td>\n",
       "      <td>False</td>\n",
       "      <td>False</td>\n",
       "      <td>False</td>\n",
       "      <td>False</td>\n",
       "      <td>True</td>\n",
       "    </tr>\n",
       "    <tr>\n",
       "      <th>2</th>\n",
       "      <td>2991718</td>\n",
       "      <td>13</td>\n",
       "      <td>58706</td>\n",
       "      <td>2</td>\n",
       "      <td>2</td>\n",
       "      <td>1</td>\n",
       "      <td>4</td>\n",
       "      <td>9</td>\n",
       "      <td>114</td>\n",
       "      <td>0</td>\n",
       "      <td>...</td>\n",
       "      <td>False</td>\n",
       "      <td>False</td>\n",
       "      <td>True</td>\n",
       "      <td>False</td>\n",
       "      <td>True</td>\n",
       "      <td>False</td>\n",
       "      <td>False</td>\n",
       "      <td>False</td>\n",
       "      <td>False</td>\n",
       "      <td>True</td>\n",
       "    </tr>\n",
       "    <tr>\n",
       "      <th>3</th>\n",
       "      <td>4220106</td>\n",
       "      <td>13</td>\n",
       "      <td>57118</td>\n",
       "      <td>6</td>\n",
       "      <td>2</td>\n",
       "      <td>4</td>\n",
       "      <td>10</td>\n",
       "      <td>11</td>\n",
       "      <td>117</td>\n",
       "      <td>0</td>\n",
       "      <td>...</td>\n",
       "      <td>False</td>\n",
       "      <td>False</td>\n",
       "      <td>False</td>\n",
       "      <td>True</td>\n",
       "      <td>True</td>\n",
       "      <td>False</td>\n",
       "      <td>False</td>\n",
       "      <td>False</td>\n",
       "      <td>False</td>\n",
       "      <td>True</td>\n",
       "    </tr>\n",
       "    <tr>\n",
       "      <th>4</th>\n",
       "      <td>2263008</td>\n",
       "      <td>14</td>\n",
       "      <td>59834</td>\n",
       "      <td>6</td>\n",
       "      <td>3</td>\n",
       "      <td>4</td>\n",
       "      <td>13</td>\n",
       "      <td>12</td>\n",
       "      <td>117</td>\n",
       "      <td>1</td>\n",
       "      <td>...</td>\n",
       "      <td>False</td>\n",
       "      <td>False</td>\n",
       "      <td>False</td>\n",
       "      <td>True</td>\n",
       "      <td>True</td>\n",
       "      <td>False</td>\n",
       "      <td>False</td>\n",
       "      <td>False</td>\n",
       "      <td>False</td>\n",
       "      <td>True</td>\n",
       "    </tr>\n",
       "  </tbody>\n",
       "</table>\n",
       "<p>5 rows × 37 columns</p>\n",
       "</div>"
      ],
      "text/plain": [
       "   Unique ID  Age  Annual Family Income ($)  Time spent watching videos/TV  \\\n",
       "0    7319483   13                     20423                              3   \n",
       "1    4791965   13                      5570                              3   \n",
       "2    2991718   13                     58706                              2   \n",
       "3    4220106   13                     57118                              6   \n",
       "4    2263008   14                     59834                              6   \n",
       "\n",
       "   Time spent playing indoor sports  Time spent playing outdoor sports  \\\n",
       "0                                 4                                  3   \n",
       "1                                 3                                  1   \n",
       "2                                 2                                  1   \n",
       "3                                 2                                  4   \n",
       "4                                 3                                  4   \n",
       "\n",
       "   Total Time spent working in front of screen  Sleeping hours   IQ  \\\n",
       "0                                            7               8   95   \n",
       "1                                           10               3  120   \n",
       "2                                            4               9  114   \n",
       "3                                           10              11  117   \n",
       "4                                           13              12  117   \n",
       "\n",
       "   Whether parents have specs  ...  Country_JPN  Country_KOR  Gender_Female  \\\n",
       "0                           1  ...        False        False          False   \n",
       "1                           1  ...        False        False           True   \n",
       "2                           0  ...        False        False           True   \n",
       "3                           0  ...        False        False          False   \n",
       "4                           1  ...        False        False          False   \n",
       "\n",
       "   Gender_Male  Maritial Status (0 - Single, 1 - Married, 2 - Divorced)_0  \\\n",
       "0         True                                               True           \n",
       "1        False                                               True           \n",
       "2        False                                               True           \n",
       "3         True                                               True           \n",
       "4         True                                               True           \n",
       "\n",
       "   Maritial Status (0 - Single, 1 - Married, 2 - Divorced)_1  \\\n",
       "0                                              False           \n",
       "1                                              False           \n",
       "2                                              False           \n",
       "3                                              False           \n",
       "4                                              False           \n",
       "\n",
       "   Maritial Status (0 - Single, 1 - Married, 2 - Divorced)_2  \\\n",
       "0                                              False           \n",
       "1                                              False           \n",
       "2                                              False           \n",
       "3                                              False           \n",
       "4                                              False           \n",
       "\n",
       "   Education Status_Dropout  Education Status_Graduate  \\\n",
       "0                     False                      False   \n",
       "1                     False                      False   \n",
       "2                     False                      False   \n",
       "3                     False                      False   \n",
       "4                     False                      False   \n",
       "\n",
       "   Education Status_Studying  \n",
       "0                       True  \n",
       "1                       True  \n",
       "2                       True  \n",
       "3                       True  \n",
       "4                       True  \n",
       "\n",
       "[5 rows x 37 columns]"
      ]
     },
     "execution_count": 14,
     "metadata": {},
     "output_type": "execute_result"
    }
   ],
   "source": [
    "# Display the first few rows of the dataframe after encoding\n",
    "df.head()"
   ]
  },
  {
   "cell_type": "code",
   "execution_count": 15,
   "id": "caee207a-ed28-4210-a0a3-1f937723e2a3",
   "metadata": {
    "tags": []
   },
   "outputs": [],
   "source": [
    "# Calculate the correlation between each feature and the target variable\n",
    "feature_correlation = df.corr()['Wear Specs'].sort_values(ascending=False)"
   ]
  },
  {
   "cell_type": "code",
   "execution_count": 16,
   "id": "5feff1d2-a704-4eb2-86f2-1667e002c126",
   "metadata": {
    "tags": []
   },
   "outputs": [],
   "source": [
    "# Drop columns with low correlation with the target variable\n",
    "low_corr_columns = feature_correlation[feature_correlation < 0.1].index\n",
    "filtered_df = df.drop(low_corr_columns, axis=1)"
   ]
  },
  {
   "cell_type": "code",
   "execution_count": 17,
   "id": "f9a7a6d1-6b5f-4a34-95e6-c842d00cce52",
   "metadata": {
    "tags": []
   },
   "outputs": [
    {
     "data": {
      "text/plain": [
       "{'Age': Index([], dtype='int64', name='Age'),\n",
       " 'Time spent watching videos/TV': Index([], dtype='int64', name='Time spent watching videos/TV'),\n",
       " 'Total Time spent working in front of screen': Index([], dtype='int64', name='Total Time spent working in front of screen'),\n",
       " 'Whether parents have specs': Index([], dtype='int64', name='Whether parents have specs'),\n",
       " 'Has Diabetes': Index([], dtype='int64', name='Has Diabetes'),\n",
       " 'Wants to change career': Index([0], dtype='int64', name='Wants to change career'),\n",
       " 'Drinks alcohol': Index([], dtype='int64', name='Drinks alcohol'),\n",
       " 'Wear Specs': Index([], dtype='int64', name='Wear Specs'),\n",
       " 'Country_KOR': Index([], dtype='bool', name='Country_KOR')}"
      ]
     },
     "execution_count": 17,
     "metadata": {},
     "output_type": "execute_result"
    }
   ],
   "source": [
    "# Find cut-off range for each remaining column where 70% or more people wear specs\n",
    "cutoff_ranges = {}\n",
    "for column in filtered_df.columns:\n",
    "    cutoff_range = filtered_df[column].value_counts(normalize=True).loc[lambda x: x >= 0.7].index\n",
    "    cutoff_ranges[column] = cutoff_range\n",
    "\n",
    "cutoff_ranges"
   ]
  },
  {
   "cell_type": "code",
   "execution_count": 24,
   "id": "06e7d09b-ee97-4586-8159-013e2d3b614b",
   "metadata": {
    "tags": []
   },
   "outputs": [
    {
     "name": "stdout",
     "output_type": "stream",
     "text": [
      "Index(['Unique ID', 'Age', 'Annual Family Income ($)',\n",
      "       'Time spent watching videos/TV', 'Time spent playing indoor sports',\n",
      "       'Time spent playing outdoor sports',\n",
      "       'Total Time spent working in front of screen', 'Sleeping hours', 'IQ',\n",
      "       'Whether parents have specs', 'English speaker',\n",
      "       'Migrated within country', 'Migrated overseas', 'Has Diabetes',\n",
      "       'Has Gym Subscription', 'Has OTT subscription', 'Number of friends',\n",
      "       'Likes spicy food', 'Likes desserts', 'Wants to change career',\n",
      "       'Has debt', 'Has kids', 'Drinks alcohol', 'Smoker', 'Wear Specs',\n",
      "       'Country_CAN', 'Country_IND', 'Country_JPN', 'Country_KOR',\n",
      "       'Gender_Female', 'Gender_Male',\n",
      "       'Maritial Status (0 - Single, 1 - Married, 2 - Divorced)_0',\n",
      "       'Maritial Status (0 - Single, 1 - Married, 2 - Divorced)_1',\n",
      "       'Maritial Status (0 - Single, 1 - Married, 2 - Divorced)_2',\n",
      "       'Education Status_Dropout', 'Education Status_Graduate',\n",
      "       'Education Status_Studying'],\n",
      "      dtype='object')\n"
     ]
    }
   ],
   "source": [
    "# Check the columns in your DataFrame\n",
    "print(df.columns)"
   ]
  },
  {
   "cell_type": "code",
   "execution_count": 18,
   "id": "40ef0b91-238f-4142-a23a-8c085636cd41",
   "metadata": {
    "tags": []
   },
   "outputs": [],
   "source": [
    "import pandas as pd\n",
    "import numpy as np\n",
    "import matplotlib.pyplot as plt\n",
    "from tqdm import tqdm"
   ]
  },
  {
   "cell_type": "code",
   "execution_count": 30,
   "id": "f76d48f6-1d28-4f68-a1c2-7b29a07ecb77",
   "metadata": {
    "tags": []
   },
   "outputs": [],
   "source": [
    "# Filter out the data for countries other than India for analysis\n",
    "df_other_countries = df[df['Country_JPN'] != 'India']"
   ]
  },
  {
   "cell_type": "code",
   "execution_count": 31,
   "id": "e00346e1-4067-47e9-93dc-18ded62d25bf",
   "metadata": {
    "tags": []
   },
   "outputs": [
    {
     "name": "stdout",
     "output_type": "stream",
     "text": [
      "Error: 'Country' column does not exist in the DataFrame.\n"
     ]
    }
   ],
   "source": [
    "# Now let's try filtering out the data for countries other than India\n",
    "if 'Country' in df.columns:\n",
    "    df_other_countries = df[df['Country_JPN'] != 'India']\n",
    "else:\n",
    "    print(\"Error: 'Country' column does not exist in the DataFrame.\")"
   ]
  },
  {
   "cell_type": "code",
   "execution_count": 68,
   "id": "262eb531-b1e3-457e-8d3d-ff780cb5f504",
   "metadata": {
    "tags": []
   },
   "outputs": [],
   "source": [
    "# Assuming 'Country' column exists and contains 'JPN'\n",
    "df_Country_JPN = df[df['Country_JPN'] == 'JPN']\n",
    "\n",
    "# Now you can calculate the correlation with the target variable 'Wear Specs'\n",
    "correlation_other_countries = df_Country_JPN.corr()['Wear Specs'].sort_values(ascending=False)"
   ]
  },
  {
   "cell_type": "code",
   "execution_count": 69,
   "id": "6b00371b-6b16-4012-989a-1d1ce65fdd5b",
   "metadata": {
    "tags": []
   },
   "outputs": [],
   "source": [
    "# Calculate the correlation between each feature and the target variable for other countries\n",
    "correlation_other_countries = df_Country_JPN.corr()['Wear Specs'].sort_values(ascending=False)"
   ]
  },
  {
   "cell_type": "code",
   "execution_count": 83,
   "id": "ff55ae64-2852-4a32-9f89-8f69faf7f477",
   "metadata": {
    "tags": []
   },
   "outputs": [
    {
     "data": {
      "image/png": "[encoded data removed]",
      "text/plain": [
       "<Figure size 1000x800 with 1 Axes>"
      ]
     },
     "metadata": {},
     "output_type": "display_data"
    },
    {
     "name": "stdout",
     "output_type": "stream",
     "text": [
      "Correlation plot generated for features excluding India.\n"
     ]
    }
   ],
   "source": [
    "# Plot the correlation for visualization\n",
    "plt.figure(figsize=(10, 8), facecolor='white')\n",
    "plt.barh(correlation_other_countries.index, correlation_other_countries.values)\n",
    "plt.title('Feature Correlation with Wearing Specs (Excluding India)')\n",
    "plt.xlabel('Correlation Coefficient')\n",
    "plt.ylabel('Features')\n",
    "plt.tight_layout()\n",
    "plt.show()\n",
    "print('Correlation plot generated for features excluding India.')"
   ]
  },
  {
   "cell_type": "code",
   "execution_count": 79,
   "id": "a28083be-6f25-41ce-92c1-459b8d7a43db",
   "metadata": {
    "tags": []
   },
   "outputs": [
    {
     "data": {
      "image/png": "[encoded data removed]",
      "text/plain": [
       "<Figure size 1000x800 with 1 Axes>"
      ]
     },
     "metadata": {},
     "output_type": "display_data"
    },
    {
     "ename": "AttributeError",
     "evalue": "module 'matplotlib.pyplot' has no attribute 'bar_graph'",
     "output_type": "error",
     "traceback": [
      "\u001b[1;31m---------------------------------------------------------------------------\u001b[0m",
      "\u001b[1;31mAttributeError\u001b[0m                            Traceback (most recent call last)",
      "Cell \u001b[1;32mIn[79], line 10\u001b[0m\n\u001b[0;32m      8\u001b[0m plt\u001b[38;5;241m.\u001b[39mtight_layout()\n\u001b[0;32m      9\u001b[0m plt\u001b[38;5;241m.\u001b[39mshow()\n\u001b[1;32m---> 10\u001b[0m plt\u001b[38;5;241m.\u001b[39mbar_graph()\n\u001b[0;32m     12\u001b[0m \u001b[38;5;28mprint\u001b[39m(\u001b[38;5;124m'\u001b[39m\u001b[38;5;124mCorrelation plot generated for features excluding India.\u001b[39m\u001b[38;5;124m'\u001b[39m)\n",
      "\u001b[1;31mAttributeError\u001b[0m: module 'matplotlib.pyplot' has no attribute 'bar_graph'"
     ]
    }
   ],
   "source": [
    "# Assuming you have already calculated `correlation_other_countries`\n",
    "\n",
    "plt.figure(figsize=(10, 8), facecolor='Orange')\n",
    "plt.barh(correlation_other_countries.index, correlation_other_countries.values)\n",
    "plt.title('Feature Correlation with Wearing Specs (Excluding India)')\n",
    "plt.xlabel('Correlation Coefficient')\n",
    "plt.ylabel('Features')\n",
    "plt.tight_layout()\n",
    "plt.show()\n",
    "plt.bar_graph()\n",
    "\n",
    "print('Correlation plot generated for features excluding India.')"
   ]
  },
  {
   "cell_type": "code",
   "execution_count": null,
   "id": "3130bef8-de5a-4dc4-903c-596b8e72a193",
   "metadata": {},
   "outputs": [],
   "source": []
  }
 ],
 "metadata": {
  "kernelspec": {
   "display_name": "Python 3 (ipykernel)",
   "language": "python",
   "name": "python3"
  },
  "language_info": {
   "codemirror_mode": {
    "name": "ipython",
    "version": 3
   },
   "file_extension": ".py",
   "mimetype": "text/x-python",
   "name": "python",
   "nbconvert_exporter": "python",
   "pygments_lexer": "ipython3",
   "version": "3.11.5"
  }
 },
 "nbformat": 4,
 "nbformat_minor": 5
}
